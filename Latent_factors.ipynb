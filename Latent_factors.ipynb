{
 "cells": [
  {
   "cell_type": "code",
   "execution_count": 1,
   "metadata": {},
   "outputs": [],
   "source": [
    "import csv\n",
    "import numpy as np\n",
    "from numpy import linalg as LA\n",
    "import matplotlib.pyplot as plt"
   ]
  },
  {
   "cell_type": "code",
   "execution_count": 2,
   "metadata": {},
   "outputs": [],
   "source": [
    "iterations = 40\n",
    "k = 20\n",
    "regularization_factor = 0.1\n",
    "learning_rate = 0.01\n",
    "data_path = 'ratings.csv'"
   ]
  },
  {
   "cell_type": "code",
   "execution_count": 3,
   "metadata": {},
   "outputs": [],
   "source": [
    "def get_max():\n",
    "    max_m=0\n",
    "    max_u=0\n",
    "    with open(data_path) as f:\n",
    "        r=csv.reader(f)\n",
    "        for r1 in r:\n",
    "            p=r1\n",
    "            if(int(p[0])>max_m):\n",
    "                max_m=int(p[0])\n",
    "            if(int(p[1])>max_u):\n",
    "                max_u=int(p[1])\n",
    "    return max_m,max_u"
   ]
  },
  {
   "cell_type": "code",
   "execution_count": 4,
   "metadata": {},
   "outputs": [
    {
     "name": "stdout",
     "output_type": "stream",
     "text": [
      "9723\n",
      "609\n"
     ]
    }
   ],
   "source": [
    "x,y=get_max()\n",
    "print(x)\n",
    "print(y)"
   ]
  },
  {
   "cell_type": "code",
   "execution_count": 5,
   "metadata": {},
   "outputs": [],
   "source": [
    "def latent_factor_recommnder(data_path, regularization_factor, learning_rate, iterations, k):\n",
    "    x,y=get_max()\n",
    "    err=[]\n",
    "    e=0\n",
    "    Q = np.random.uniform(0.0, np.sqrt(5/k), size=(x+1, k))\n",
    "    P = np.random.uniform(0.0, np.sqrt(5/k), size=(y+1, k))\n",
    "    for i in range(iterations):\n",
    "    \n",
    "        with open(data_path) as file:\n",
    "            readcsv=csv.reader(file, delimiter = ',')\n",
    "            for row in readcsv:\n",
    "                e = 2 * (int(row[2]) - np.dot(Q[int(row[0])],np.transpose(P[int(row[1])])))\n",
    "                P[int(row[1])] = P[int(row[1])] + learning_rate * (e * Q[int(row[0])] - 2*regularization_factor * P[int(row[1])])\n",
    "                Q[int(row[0])] = Q[int(row[0])] + learning_rate * (e * P[int(row[1])] - 2*regularization_factor * Q[int(row[0])])\n",
    "        error = 0\n",
    "        p = np.sum(np.square(LA.norm(P, 2, axis=1)))\n",
    "        q = np.sum(np.square(LA.norm(Q, 2, axis=1)))\n",
    "        with open(data_path) as file:\n",
    "            reader = csv.reader(file, delimiter=',')\n",
    "            for row in reader:\n",
    "                error = error + (int(row[2]) - Q[int(row[0])].dot(np.transpose(P[int(row[1])]))) **2\n",
    "        t=error + regularization_factor * (p + q)\n",
    "        #print('hi')\n",
    "        err.append(t)\n",
    "        print(\"Iteration: %d ; error = %.4f\" % (i, t))\n",
    "    return err"
   ]
  },
  {
   "cell_type": "code",
   "execution_count": 6,
   "metadata": {},
   "outputs": [
    {
     "name": "stdout",
     "output_type": "stream",
     "text": [
      "Iteration: 0 ; error = 185040.7268\n",
      "Iteration: 1 ; error = 97739.3815\n",
      "Iteration: 2 ; error = 91746.4958\n",
      "Iteration: 3 ; error = 88953.2086\n",
      "Iteration: 4 ; error = 86971.6397\n",
      "Iteration: 5 ; error = 85216.8425\n",
      "Iteration: 6 ; error = 83463.8006\n",
      "Iteration: 7 ; error = 81622.7812\n",
      "Iteration: 8 ; error = 79682.5736\n",
      "Iteration: 9 ; error = 77677.8982\n",
      "Iteration: 10 ; error = 75657.5275\n",
      "Iteration: 11 ; error = 73663.5955\n",
      "Iteration: 12 ; error = 71726.5184\n",
      "Iteration: 13 ; error = 69867.3001\n",
      "Iteration: 14 ; error = 68100.1332\n",
      "Iteration: 15 ; error = 66433.8336\n",
      "Iteration: 16 ; error = 64872.7356\n",
      "Iteration: 17 ; error = 63417.5058\n",
      "Iteration: 18 ; error = 62065.9704\n",
      "Iteration: 19 ; error = 60813.9137\n",
      "Iteration: 20 ; error = 59655.7873\n",
      "Iteration: 21 ; error = 58585.2953\n",
      "Iteration: 22 ; error = 57595.8438\n",
      "Iteration: 23 ; error = 56680.8634\n",
      "Iteration: 24 ; error = 55834.0246\n",
      "Iteration: 25 ; error = 55049.3684\n",
      "Iteration: 26 ; error = 54321.3742\n",
      "Iteration: 27 ; error = 53644.9853\n",
      "Iteration: 28 ; error = 53015.6046\n",
      "Iteration: 29 ; error = 52429.0741\n",
      "Iteration: 30 ; error = 51881.6444\n",
      "Iteration: 31 ; error = 51369.9401\n",
      "Iteration: 32 ; error = 50890.9242\n",
      "Iteration: 33 ; error = 50441.8637\n",
      "Iteration: 34 ; error = 50020.2976\n",
      "Iteration: 35 ; error = 49624.0072\n",
      "Iteration: 36 ; error = 49250.9900\n",
      "Iteration: 37 ; error = 48899.4356\n",
      "Iteration: 38 ; error = 48567.7050\n",
      "Iteration: 39 ; error = 48254.3118\n"
     ]
    }
   ],
   "source": [
    "err=latent_factor_recommnder(data_path, regularization_factor, learning_rate, iterations, k)"
   ]
  },
  {
   "cell_type": "code",
   "execution_count": 7,
   "metadata": {},
   "outputs": [
    {
     "data": {
      "image/png": "[encoded data removed]",
      "text/plain": [
       "<Figure size 432x288 with 1 Axes>"
      ]
     },
     "metadata": {
      "needs_background": "light"
     },
     "output_type": "display_data"
    }
   ],
   "source": [
    "a = [i for i in range(1,41)]\n",
    "plt.plot(a,err)\n",
    "#plt.xticks(np.arange(0, 40, 1))\n",
    "plt.xlabel('40 iterations')\n",
    "plt.ylabel('respective Errors')\n",
    "plt.title('Error vs Iterations->learning rate 0.01')\n",
    "plt.rcParams['figure.figsize'] = [12,4]\n",
    "plt.show()"
   ]
  },
  {
   "cell_type": "code",
   "execution_count": null,
   "metadata": {},
   "outputs": [],
   "source": []
  }
 ],
 "metadata": {
  "kernelspec": {
   "display_name": "Python 3",
   "language": "python",
   "name": "python3"
  },
  "language_info": {
   "codemirror_mode": {
    "name": "ipython",
    "version": 3
   },
   "file_extension": ".py",
   "mimetype": "text/x-python",
   "name": "python",
   "nbconvert_exporter": "python",
   "pygments_lexer": "ipython3",
   "version": "3.7.6"
  }
 },
 "nbformat": 4,
 "nbformat_minor": 2
}
